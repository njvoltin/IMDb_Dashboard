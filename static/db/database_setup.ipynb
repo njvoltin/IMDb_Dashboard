{
 "cells": [
  {
   "cell_type": "markdown",
   "metadata": {},
   "source": [
    "Database Setup\n",
    "\n",
    "Import the data provided in the imdb_top_1000.csv from your terminal using\n",
    "\n",
    "mongoimport --db imdb_project --collection top_1000_movies --type csv --file imdb_top_1000.csv --headerline"
   ]
  },
  {
   "cell_type": "code",
   "execution_count": 1,
   "metadata": {},
   "outputs": [],
   "source": [
    "# Import dependencies\n",
    "from pymongo import MongoClient\n",
    "from pprint import pprint"
   ]
  },
  {
   "cell_type": "code",
   "execution_count": 2,
   "metadata": {},
   "outputs": [],
   "source": [
    "# Create an instance of MongoClient\n",
    "mongo = MongoClient(port=27017)"
   ]
  },
  {
   "cell_type": "code",
   "execution_count": 3,
   "metadata": {},
   "outputs": [
    {
     "name": "stdout",
     "output_type": "stream",
     "text": [
      "['admin', 'classDB', 'config', 'epa', 'fruits_db', 'garden08', 'imdb_project', 'local', 'met', 'petsitly_marketing', 'uk_food']\n"
     ]
    }
   ],
   "source": [
    "# confirm that our new database was created\n",
    "print(mongo.list_database_names())"
   ]
  },
  {
   "cell_type": "code",
   "execution_count": 4,
   "metadata": {},
   "outputs": [],
   "source": [
    "# assign the uk_food database to a variable name\n",
    "db = mongo['imdb_project']"
   ]
  },
  {
   "cell_type": "code",
   "execution_count": 5,
   "metadata": {},
   "outputs": [
    {
     "name": "stdout",
     "output_type": "stream",
     "text": [
      "['top_1000_movies']\n"
     ]
    }
   ],
   "source": [
    "# review the collections in our new database\n",
    "print(db.list_collection_names())"
   ]
  },
  {
   "cell_type": "code",
   "execution_count": 6,
   "metadata": {},
   "outputs": [
    {
     "name": "stdout",
     "output_type": "stream",
     "text": [
      "{'Certificate': 'A',\n",
      " 'Director': 'Francis Ford Coppola',\n",
      " 'Genre': 'Crime, Drama',\n",
      " 'Gross': '134,966,411',\n",
      " 'IMDB_Rating': 9.2,\n",
      " 'Meta_score': 100,\n",
      " 'No_of_Votes': 1620367,\n",
      " 'Overview': \"An organized crime dynasty's aging patriarch transfers control \"\n",
      "             'of his clandestine empire to his reluctant son.',\n",
      " 'Poster_Link': 'https://m.media-amazon.com/images/M/MV5BM2MyNjYxNmUtYTAwNi00MTYxLWJmNWYtYzZlODY3ZTk3OTFlXkEyXkFqcGdeQXVyNzkwMjQ5NzM@._V1_UY98_CR1,0,67,98_AL_.jpg',\n",
      " 'Released_Year': 1972,\n",
      " 'Runtime': '175 min',\n",
      " 'Series_Title': 'The Godfather',\n",
      " 'Star1': 'Marlon Brando',\n",
      " 'Star2': 'Al Pacino',\n",
      " 'Star3': 'James Caan',\n",
      " 'Star4': 'Diane Keaton',\n",
      " '_id': ObjectId('678076ef3717708e7dbeed8e')}\n"
     ]
    }
   ],
   "source": [
    "pprint(db.top_1000_movies.find_one())"
   ]
  },
  {
   "cell_type": "markdown",
   "metadata": {},
   "source": [
    "Finally, export the database using terminal as .json for easy usability in Javascript\n",
    "\n",
    "\n",
    "mongoexport --db imdb_project --collection top_1000_movies --out imdb_top_1000.json --jsonArray\n"
   ]
  }
 ],
 "metadata": {
  "kernelspec": {
   "display_name": "dev",
   "language": "python",
   "name": "python3"
  },
  "language_info": {
   "codemirror_mode": {
    "name": "ipython",
    "version": 3
   },
   "file_extension": ".py",
   "mimetype": "text/x-python",
   "name": "python",
   "nbconvert_exporter": "python",
   "pygments_lexer": "ipython3",
   "version": "3.10.14"
  }
 },
 "nbformat": 4,
 "nbformat_minor": 2
}
